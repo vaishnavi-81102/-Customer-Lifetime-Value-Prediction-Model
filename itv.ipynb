{
 "cells": [
  {
   "cell_type": "code",
   "execution_count": 1,
   "id": "6a34f5a6",
   "metadata": {},
   "outputs": [],
   "source": [
    "import pandas as pd\n",
    "import numpy as np\n",
    "import matplotlib.pyplot as plt\n",
    "from sklearn.model_selection import train_test_split\n",
    "from sklearn.preprocessing import StandardScaler\n",
    "from xgboost import XGBRegressor\n",
    "from sklearn.metrics import mean_absolute_error, mean_squared_error\n",
    "import pickle\n",
    "\n",
    "# Load data\n",
    "transactions = pd.read_csv(r\"C:\\Users\\user\\Desktop\\transactions.csv\")\n",
    "customers = pd.read_csv(r\"C:\\Users\\user\\Desktop\\customers.csv\")\n"
   ]
  },
  {
   "cell_type": "code",
   "execution_count": 2,
   "id": "5aa9e223",
   "metadata": {},
   "outputs": [
    {
     "name": "stdout",
     "output_type": "stream",
     "text": [
      "MAE: 200.00, RMSE: 200.00\n"
     ]
    },
    {
     "data": {
      "image/png": "[encoded data removed]",
      "text/plain": [
       "<Figure size 600x400 with 1 Axes>"
      ]
     },
     "metadata": {},
     "output_type": "display_data"
    }
   ],
   "source": [
    "# Clean column names\n",
    "transactions.columns = transactions.columns.str.strip()\n",
    "customers.columns = customers.columns.str.strip()\n",
    "\n",
    "# Merge on CustomerID\n",
    "df = transactions.merge(customers, on='CustomerID', how='left')\n",
    "\n",
    "# Convert date column\n",
    "df['TransactionDate'] = pd.to_datetime(df['TransactionDate'])\n",
    "\n",
    "# Reference date for Recency\n",
    "reference_date = df['TransactionDate'].max()\n",
    "\n",
    "# Feature engineering\n",
    "features = df.groupby('CustomerID').agg({\n",
    "    'TransactionDate': [lambda x: (reference_date - x.max()).days, 'count'],\n",
    "    'TransactionAmount': 'mean'\n",
    "})\n",
    "features.columns = ['Recency', 'Frequency', 'AOV']\n",
    "features = features.reset_index()\n",
    "\n",
    "# Target: total LTV\n",
    "df_ltv = df.groupby('CustomerID')['TransactionAmount'].sum().reset_index()\n",
    "df_ltv.columns = ['CustomerID', 'LTV']\n",
    "\n",
    "# Final dataset\n",
    "final_df = features.merge(df_ltv, on='CustomerID')\n",
    "\n",
    "# Prepare training data\n",
    "X = final_df[['Recency', 'Frequency', 'AOV']]\n",
    "y = final_df['LTV']\n",
    "X_train, X_test, y_train, y_test = train_test_split(X, y, test_size=0.2, random_state=42)\n",
    "\n",
    "# Scale features\n",
    "scaler = StandardScaler()\n",
    "X_train_scaled = scaler.fit_transform(X_train)\n",
    "X_test_scaled = scaler.transform(X_test)\n",
    "\n",
    "# Train model\n",
    "model = XGBRegressor()\n",
    "model.fit(X_train_scaled, y_train)\n",
    "\n",
    "# Evaluate model\n",
    "y_pred = model.predict(X_test_scaled)\n",
    "mae = mean_absolute_error(y_test, y_pred)\n",
    "rmse = np.sqrt(mean_squared_error(y_test, y_pred))\n",
    "print(f\"MAE: {mae:.2f}, RMSE: {rmse:.2f}\")\n",
    "\n",
    "# Save model\n",
    "with open(\"ltv_model.pkl\", \"wb\") as f:\n",
    "    pickle.dump(model, f)\n",
    "\n",
    "# Predict LTV for all\n",
    "final_df['Predicted_LTV'] = model.predict(scaler.transform(X))\n",
    "\n",
    "# Segment customers\n",
    "q50 = final_df['Predicted_LTV'].quantile(0.5)\n",
    "q75 = final_df['Predicted_LTV'].quantile(0.75)\n",
    "final_df['LTV_Segment'] = final_df['Predicted_LTV'].apply(\n",
    "    lambda x: 'High' if x >= q75 else ('Medium' if x >= q50 else 'Low')\n",
    ")\n",
    "\n",
    "# Save predictions\n",
    "final_df.to_csv(\"ltv_predictions.csv\", index=False)\n",
    "\n",
    "# Plot segments\n",
    "plt.figure(figsize=(6,4))\n",
    "final_df['LTV_Segment'].value_counts().plot(kind='bar', color=['green', 'orange', 'red'])\n",
    "plt.title(\"Customer Segments by Predicted LTV\")\n",
    "plt.xlabel(\"Segment\")\n",
    "plt.ylabel(\"Count\")\n",
    "plt.tight_layout()\n",
    "plt.savefig(\"ltv_segments_plot.png\")\n",
    "plt.show()\n"
   ]
  },
  {
   "cell_type": "code",
   "execution_count": null,
   "id": "7eb997d4",
   "metadata": {},
   "outputs": [],
   "source": []
  }
 ],
 "metadata": {
  "kernelspec": {
   "display_name": "Python 3",
   "language": "python",
   "name": "python3"
  },
  "language_info": {
   "codemirror_mode": {
    "name": "ipython",
    "version": 3
   },
   "file_extension": ".py",
   "mimetype": "text/x-python",
   "name": "python",
   "nbconvert_exporter": "python",
   "pygments_lexer": "ipython3",
   "version": "3.12.4"
  }
 },
 "nbformat": 4,
 "nbformat_minor": 5
}
